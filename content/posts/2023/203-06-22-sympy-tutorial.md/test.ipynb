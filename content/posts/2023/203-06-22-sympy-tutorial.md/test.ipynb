{
 "cells": [
  {
   "cell_type": "code",
   "execution_count": 113,
   "metadata": {},
   "outputs": [],
   "source": [
    "from sympy import *\n",
    "import sympy as sp"
   ]
  },
  {
   "cell_type": "code",
   "execution_count": 114,
   "metadata": {},
   "outputs": [],
   "source": [
    "gm1, gm2, gm3 = sp.symbols('g_{m1} g_{m2} g_{m3}')\n",
    "ro1, ro2, ro3 = sp.symbols('r_{o1} r_{o2} r_{o3}')\n",
    "Vin, Vout = sp.symbols('V_{in} V_{out}')\n",
    "Vx = sp.symbols('V_x')"
   ]
  },
  {
   "cell_type": "code",
   "execution_count": 115,
   "metadata": {},
   "outputs": [],
   "source": [
    "f1 = -Vout/ro3-Vx*gm3 - Vx/ro1-gm1*Vin\n",
    "f2 = (Vout-Vx)/ro2-gm2*Vx - Vx/ro1-gm1*Vin"
   ]
  },
  {
   "cell_type": "code",
   "execution_count": 116,
   "metadata": {},
   "outputs": [
    {
     "data": {
      "text/latex": [
       "$\\displaystyle \\frac{- V_{in} g_{m1} g_{m2} r_{o1} r_{o2} r_{o3} + V_{in} g_{m1} g_{m3} r_{o1} r_{o2} r_{o3} - V_{in} g_{m1} r_{o1} r_{o3}}{g_{m2} r_{o1} r_{o2} + g_{m3} r_{o1} r_{o3} + r_{o1} + r_{o2} + r_{o3}}$"
      ],
      "text/plain": [
       "(-V_{in}*g_{m1}*g_{m2}*r_{o1}*r_{o2}*r_{o3} + V_{in}*g_{m1}*g_{m3}*r_{o1}*r_{o2}*r_{o3} - V_{in}*g_{m1}*r_{o1}*r_{o3})/(g_{m2}*r_{o1}*r_{o2} + g_{m3}*r_{o1}*r_{o3} + r_{o1} + r_{o2} + r_{o3})"
      ]
     },
     "execution_count": 116,
     "metadata": {},
     "output_type": "execute_result"
    }
   ],
   "source": [
    "result = sp.solve([f1,f2], [Vout, Vx])\n",
    "result.get(Vout)"
   ]
  },
  {
   "cell_type": "code",
   "execution_count": 117,
   "metadata": {},
   "outputs": [
    {
     "name": "stdout",
     "output_type": "stream",
     "text": [
      "\\left\\{\\left( \\frac{a + b}{2}, \\  \\frac{a - b}{2}\\right)\\right\\}\n"
     ]
    }
   ],
   "source": [
    "# 定义符号\n",
    "x, y = symbols('x y')\n",
    "a, b = symbols('a b')\n",
    "\n",
    "# 定义方程\n",
    "f1 = x+y-a\n",
    "f2 = x-y-b\n",
    "\n",
    "#求解\n",
    "result = nonlinsolve([f1,f2], [x,y])\n",
    "print(latex(result))"
   ]
  },
  {
   "attachments": {},
   "cell_type": "markdown",
   "metadata": {},
   "source": [
    "test"
   ]
  },
  {
   "cell_type": "code",
   "execution_count": 118,
   "metadata": {},
   "outputs": [],
   "source": [
    "gm1, gm2, gm3 = symbols('g_{m1} g_{m2} g_{m3}')\n",
    "gme1, gme2, gme3 = symbols('g_{me1} g_{me2} g_{me3}')\n",
    "ro1, ro2, ro3 = symbols('r_{o1} r_{o2} r_{o3}')\n",
    "Vin1, Vin2 = symbols('V_{in1} V_{in2}')\n",
    "RD1, RD2 = symbols('R_{D1} R_{D2}')\n",
    "RSS = symbols('R_{SS}')\n"
   ]
  },
  {
   "cell_type": "code",
   "execution_count": 119,
   "metadata": {},
   "outputs": [],
   "source": [
    "def prl(x,y):\n",
    "    if (1):\n",
    "        return (x*y)/(x+y)\n",
    "    else:\n",
    "        return y"
   ]
  },
  {
   "cell_type": "code",
   "execution_count": 120,
   "metadata": {},
   "outputs": [],
   "source": [
    "RS1 = prl(RSS, (RD2+ro2)/(1+gme2*ro2))\n",
    "VX = -Vin1 * gm1 * ro1 * RD1 / (RD1 + ro1 + (1+gme1*ro1) * RS1)\n",
    "\n",
    "I1 = Vin1 * gm1 * ro1 / (RD1 + ro1)\n",
    "R1 = (RD1+ro1)/(1+gme1*ro1)\n",
    "\n",
    "R1_ = prl(RSS, R1)\n",
    "V1_ = I1*R1_\n",
    "\n",
    "VY = V1_*(1+gme2*ro2) * RD2 / (RD2 + ro2 + (1+gme2 * ro2)*R1_)\n",
    "\n",
    "Av1 = (VX-VY)/Vin1"
   ]
  },
  {
   "cell_type": "code",
   "execution_count": 121,
   "metadata": {},
   "outputs": [
    {
     "data": {
      "text/latex": [
       "$\\displaystyle \\frac{g_{m1} r_{o1} \\left(- R_{D1} R_{D2} - R_{D1} R_{SS} g_{me2} r_{o2} - R_{D1} R_{SS} - R_{D1} r_{o2} - R_{D2} R_{SS} g_{me2} r_{o2} - R_{D2} R_{SS}\\right)}{R_{D1} R_{D2} + R_{D1} R_{SS} g_{me2} r_{o2} + R_{D1} R_{SS} + R_{D1} r_{o2} + R_{D2} R_{SS} g_{me1} r_{o1} + R_{D2} R_{SS} + R_{D2} r_{o1} + R_{SS} g_{me1} r_{o1} r_{o2} + R_{SS} g_{me2} r_{o1} r_{o2} + R_{SS} r_{o1} + R_{SS} r_{o2} + r_{o1} r_{o2}}$"
      ],
      "text/plain": [
       "g_{m1}*r_{o1}*(-R_{D1}*R_{D2} - R_{D1}*R_{SS}*g_{me2}*r_{o2} - R_{D1}*R_{SS} - R_{D1}*r_{o2} - R_{D2}*R_{SS}*g_{me2}*r_{o2} - R_{D2}*R_{SS})/(R_{D1}*R_{D2} + R_{D1}*R_{SS}*g_{me2}*r_{o2} + R_{D1}*R_{SS} + R_{D1}*r_{o2} + R_{D2}*R_{SS}*g_{me1}*r_{o1} + R_{D2}*R_{SS} + R_{D2}*r_{o1} + R_{SS}*g_{me1}*r_{o1}*r_{o2} + R_{SS}*g_{me2}*r_{o1}*r_{o2} + R_{SS}*r_{o1} + R_{SS}*r_{o2} + r_{o1}*r_{o2})"
      ]
     },
     "execution_count": 121,
     "metadata": {},
     "output_type": "execute_result"
    }
   ],
   "source": [
    "simplify(Av1)"
   ]
  },
  {
   "cell_type": "code",
   "execution_count": 122,
   "metadata": {},
   "outputs": [],
   "source": [
    "Av2 = Av1.subs([(RD1, RD2), (gm1, gm2), (gme1, gme2), (ro1, ro2), (Vin1, Vin2),\n",
    "                (RD2, RD1), (gm2, gm1), (gme2, gme1), (ro2, ro1), (Vin2, Vin1)],\n",
    "                simultaneous=True)"
   ]
  },
  {
   "cell_type": "code",
   "execution_count": 123,
   "metadata": {},
   "outputs": [
    {
     "data": {
      "text/latex": [
       "$\\displaystyle \\frac{g_{m2} r_{o2} \\left(- R_{D1} R_{D2} - R_{D1} R_{SS} g_{me1} r_{o1} - R_{D1} R_{SS} - R_{D2} R_{SS} g_{me1} r_{o1} - R_{D2} R_{SS} - R_{D2} r_{o1}\\right)}{R_{D1} R_{D2} + R_{D1} R_{SS} g_{me2} r_{o2} + R_{D1} R_{SS} + R_{D1} r_{o2} + R_{D2} R_{SS} g_{me1} r_{o1} + R_{D2} R_{SS} + R_{D2} r_{o1} + R_{SS} g_{me1} r_{o1} r_{o2} + R_{SS} g_{me2} r_{o1} r_{o2} + R_{SS} r_{o1} + R_{SS} r_{o2} + r_{o1} r_{o2}}$"
      ],
      "text/plain": [
       "g_{m2}*r_{o2}*(-R_{D1}*R_{D2} - R_{D1}*R_{SS}*g_{me1}*r_{o1} - R_{D1}*R_{SS} - R_{D2}*R_{SS}*g_{me1}*r_{o1} - R_{D2}*R_{SS} - R_{D2}*r_{o1})/(R_{D1}*R_{D2} + R_{D1}*R_{SS}*g_{me2}*r_{o2} + R_{D1}*R_{SS} + R_{D1}*r_{o2} + R_{D2}*R_{SS}*g_{me1}*r_{o1} + R_{D2}*R_{SS} + R_{D2}*r_{o1} + R_{SS}*g_{me1}*r_{o1}*r_{o2} + R_{SS}*g_{me2}*r_{o1}*r_{o2} + R_{SS}*r_{o1} + R_{SS}*r_{o2} + r_{o1}*r_{o2})"
      ]
     },
     "execution_count": 123,
     "metadata": {},
     "output_type": "execute_result"
    }
   ],
   "source": [
    "simplify(Av2)"
   ]
  },
  {
   "cell_type": "code",
   "execution_count": 124,
   "metadata": {},
   "outputs": [
    {
     "data": {
      "text/latex": [
       "$\\displaystyle \\frac{- R_{D1} R_{D2} g_{m1} r_{o1} - R_{D1} R_{D2} g_{m2} r_{o2} - R_{D1} R_{SS} g_{m1} g_{me2} r_{o1} r_{o2} - R_{D1} R_{SS} g_{m1} r_{o1} - R_{D1} R_{SS} g_{m2} g_{me1} r_{o1} r_{o2} - R_{D1} R_{SS} g_{m2} r_{o2} - R_{D1} g_{m1} r_{o1} r_{o2} - R_{D2} R_{SS} g_{m1} g_{me2} r_{o1} r_{o2} - R_{D2} R_{SS} g_{m1} r_{o1} - R_{D2} R_{SS} g_{m2} g_{me1} r_{o1} r_{o2} - R_{D2} R_{SS} g_{m2} r_{o2} - R_{D2} g_{m2} r_{o1} r_{o2}}{2 \\left(R_{D1} R_{D2} + R_{D1} R_{SS} g_{me2} r_{o2} + R_{D1} R_{SS} + R_{D1} r_{o2} + R_{D2} R_{SS} g_{me1} r_{o1} + R_{D2} R_{SS} + R_{D2} r_{o1} + R_{SS} g_{me1} r_{o1} r_{o2} + R_{SS} g_{me2} r_{o1} r_{o2} + R_{SS} r_{o1} + R_{SS} r_{o2} + r_{o1} r_{o2}\\right)}$"
      ],
      "text/plain": [
       "(-R_{D1}*R_{D2}*g_{m1}*r_{o1} - R_{D1}*R_{D2}*g_{m2}*r_{o2} - R_{D1}*R_{SS}*g_{m1}*g_{me2}*r_{o1}*r_{o2} - R_{D1}*R_{SS}*g_{m1}*r_{o1} - R_{D1}*R_{SS}*g_{m2}*g_{me1}*r_{o1}*r_{o2} - R_{D1}*R_{SS}*g_{m2}*r_{o2} - R_{D1}*g_{m1}*r_{o1}*r_{o2} - R_{D2}*R_{SS}*g_{m1}*g_{me2}*r_{o1}*r_{o2} - R_{D2}*R_{SS}*g_{m1}*r_{o1} - R_{D2}*R_{SS}*g_{m2}*g_{me1}*r_{o1}*r_{o2} - R_{D2}*R_{SS}*g_{m2}*r_{o2} - R_{D2}*g_{m2}*r_{o1}*r_{o2})/(2*(R_{D1}*R_{D2} + R_{D1}*R_{SS}*g_{me2}*r_{o2} + R_{D1}*R_{SS} + R_{D1}*r_{o2} + R_{D2}*R_{SS}*g_{me1}*r_{o1} + R_{D2}*R_{SS} + R_{D2}*r_{o1} + R_{SS}*g_{me1}*r_{o1}*r_{o2} + R_{SS}*g_{me2}*r_{o1}*r_{o2} + R_{SS}*r_{o1} + R_{SS}*r_{o2} + r_{o1}*r_{o2}))"
      ]
     },
     "execution_count": 124,
     "metadata": {},
     "output_type": "execute_result"
    }
   ],
   "source": [
    "Av=simplify((Av1+Av2)/2)\n",
    "Av"
   ]
  },
  {
   "cell_type": "code",
   "execution_count": 125,
   "metadata": {},
   "outputs": [],
   "source": [
    "RD, gm, gme, ro, Vin = symbols('R_D g_m g_{me} r_o V_{in}')"
   ]
  },
  {
   "cell_type": "code",
   "execution_count": 128,
   "metadata": {},
   "outputs": [
    {
     "data": {
      "text/latex": [
       "$\\displaystyle \\frac{g_{m} \\left(- R_{D1} - R_{D2}\\right)}{2}$"
      ],
      "text/plain": [
       "g_m*(-R_{D1} - R_{D2})/2"
      ]
     },
     "execution_count": 128,
     "metadata": {},
     "output_type": "execute_result"
    }
   ],
   "source": [
    "Av_mirror = simplify(Av.subs([(RD1, RD1), (gm1, gm), (gme1, gm), (ro1, ro),\n",
    "        (RD2, RD2), (gm2, gm), (gme2, gm), (ro2, ro), (RSS, RSS)],\n",
    "        simultaneous=True))\n",
    "\n",
    "simplify(limit(limit(Av_mirror, ro, oo), RSS, oo))\n",
    "#Av_mirror"
   ]
  },
  {
   "cell_type": "code",
   "execution_count": 127,
   "metadata": {},
   "outputs": [
    {
     "data": {
      "text/latex": [
       "$\\displaystyle \\frac{g_{m} \\left(- R_{D1} + R_{D2}\\right)}{2 R_{SS} g_{m} + 1}$"
      ],
      "text/plain": [
       "g_m*(-R_{D1} + R_{D2})/(2*R_{SS}*g_m + 1)"
      ]
     },
     "execution_count": 127,
     "metadata": {},
     "output_type": "execute_result"
    }
   ],
   "source": [
    "Av_cmrr = simplify((Av1-Av2))\n",
    "Av_cmrr = simplify(Av_cmrr.subs([(RD1, RD1), (gm1, gm), (gme1, gm), (ro1, ro),\n",
    "        (RD2, RD2), (gm2, gm), (gme2, gm), (ro2, ro), (RSS, RSS)],\n",
    "        simultaneous=True))\n",
    "limit(Av_cmrr, ro, oo)"
   ]
  }
 ],
 "metadata": {
  "kernelspec": {
   "display_name": "math",
   "language": "python",
   "name": "python3"
  },
  "language_info": {
   "codemirror_mode": {
    "name": "ipython",
    "version": 3
   },
   "file_extension": ".py",
   "mimetype": "text/x-python",
   "name": "python",
   "nbconvert_exporter": "python",
   "pygments_lexer": "ipython3",
   "version": "3.11.3"
  },
  "orig_nbformat": 4
 },
 "nbformat": 4,
 "nbformat_minor": 2
}
